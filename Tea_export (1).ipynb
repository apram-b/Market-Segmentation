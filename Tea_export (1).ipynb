{
  "nbformat": 4,
  "nbformat_minor": 0,
  "metadata": {
    "colab": {
      "name": "Tea export.ipynb",
      "provenance": []
    },
    "kernelspec": {
      "name": "python3",
      "display_name": "Python 3"
    },
    "language_info": {
      "name": "python"
    }
  },
  "cells": [
    {
      "cell_type": "code",
      "metadata": {
        "id": "aN3Ptv6IWp8z"
      },
      "source": [
        "# import necessary lbraries\n"
      ],
      "execution_count": null,
      "outputs": []
    },
    {
      "cell_type": "code",
      "metadata": {
        "id": "rCAfFaQyNusY"
      },
      "source": [
        "import  pandas as pd \n",
        "import numpy as np \n",
        "import matplotlib.pyplot as plt \n",
        "import seaborn as sns"
      ],
      "execution_count": 7,
      "outputs": []
    },
    {
      "cell_type": "code",
      "metadata": {
        "id": "ZKqbkHFoDN4F"
      },
      "source": [
        "# load the dataset "
      ],
      "execution_count": 8,
      "outputs": []
    },
    {
      "cell_type": "code",
      "metadata": {
        "id": "AiegZra6N3Kl"
      },
      "source": [
        "df = pd.read_excel('/content/Tea Export.xlsx')"
      ],
      "execution_count": 14,
      "outputs": []
    },
    {
      "cell_type": "code",
      "metadata": {
        "colab": {
          "base_uri": "https://localhost:8080/",
          "height": 206
        },
        "id": "pJniXQ_zN_iO",
        "outputId": "ece2c2f9-f9ea-402c-debf-96991a7b1d04"
      },
      "source": [
        "df.head()"
      ],
      "execution_count": 15,
      "outputs": [
        {
          "output_type": "execute_result",
          "data": {
            "text/html": [
              "<div>\n",
              "<style scoped>\n",
              "    .dataframe tbody tr th:only-of-type {\n",
              "        vertical-align: middle;\n",
              "    }\n",
              "\n",
              "    .dataframe tbody tr th {\n",
              "        vertical-align: top;\n",
              "    }\n",
              "\n",
              "    .dataframe thead th {\n",
              "        text-align: right;\n",
              "    }\n",
              "</style>\n",
              "<table border=\"1\" class=\"dataframe\">\n",
              "  <thead>\n",
              "    <tr style=\"text-align: right;\">\n",
              "      <th></th>\n",
              "      <th>Year</th>\n",
              "      <th>Tea Export From South India</th>\n",
              "      <th>Tea Export From North India</th>\n",
              "      <th>Tea Export From India</th>\n",
              "    </tr>\n",
              "  </thead>\n",
              "  <tbody>\n",
              "    <tr>\n",
              "      <th>0</th>\n",
              "      <td>2001</td>\n",
              "      <td>97.2</td>\n",
              "      <td>85.4</td>\n",
              "      <td>182.6</td>\n",
              "    </tr>\n",
              "    <tr>\n",
              "      <th>1</th>\n",
              "      <td>2002</td>\n",
              "      <td>106.6</td>\n",
              "      <td>94.4</td>\n",
              "      <td>201.0</td>\n",
              "    </tr>\n",
              "    <tr>\n",
              "      <th>2</th>\n",
              "      <td>2003</td>\n",
              "      <td>81.5</td>\n",
              "      <td>92.2</td>\n",
              "      <td>173.7</td>\n",
              "    </tr>\n",
              "    <tr>\n",
              "      <th>3</th>\n",
              "      <td>2004</td>\n",
              "      <td>96.8</td>\n",
              "      <td>100.8</td>\n",
              "      <td>197.6</td>\n",
              "    </tr>\n",
              "    <tr>\n",
              "      <th>4</th>\n",
              "      <td>2005</td>\n",
              "      <td>100.1</td>\n",
              "      <td>99.0</td>\n",
              "      <td>199.1</td>\n",
              "    </tr>\n",
              "  </tbody>\n",
              "</table>\n",
              "</div>"
            ],
            "text/plain": [
              "   Year  ...  Tea Export From India\n",
              "0  2001  ...                  182.6\n",
              "1  2002  ...                  201.0\n",
              "2  2003  ...                  173.7\n",
              "3  2004  ...                  197.6\n",
              "4  2005  ...                  199.1\n",
              "\n",
              "[5 rows x 4 columns]"
            ]
          },
          "metadata": {},
          "execution_count": 15
        }
      ]
    },
    {
      "cell_type": "code",
      "metadata": {
        "colab": {
          "base_uri": "https://localhost:8080/",
          "height": 520
        },
        "id": "oReqXvylOFcS",
        "outputId": "8e6b1fa8-9caf-48cf-cbe3-04754560efda"
      },
      "source": [
        "df"
      ],
      "execution_count": 16,
      "outputs": [
        {
          "output_type": "execute_result",
          "data": {
            "text/html": [
              "<div>\n",
              "<style scoped>\n",
              "    .dataframe tbody tr th:only-of-type {\n",
              "        vertical-align: middle;\n",
              "    }\n",
              "\n",
              "    .dataframe tbody tr th {\n",
              "        vertical-align: top;\n",
              "    }\n",
              "\n",
              "    .dataframe thead th {\n",
              "        text-align: right;\n",
              "    }\n",
              "</style>\n",
              "<table border=\"1\" class=\"dataframe\">\n",
              "  <thead>\n",
              "    <tr style=\"text-align: right;\">\n",
              "      <th></th>\n",
              "      <th>Year</th>\n",
              "      <th>Tea Export From South India</th>\n",
              "      <th>Tea Export From North India</th>\n",
              "      <th>Tea Export From India</th>\n",
              "    </tr>\n",
              "  </thead>\n",
              "  <tbody>\n",
              "    <tr>\n",
              "      <th>0</th>\n",
              "      <td>2001</td>\n",
              "      <td>97.2</td>\n",
              "      <td>85.40</td>\n",
              "      <td>182.60</td>\n",
              "    </tr>\n",
              "    <tr>\n",
              "      <th>1</th>\n",
              "      <td>2002</td>\n",
              "      <td>106.6</td>\n",
              "      <td>94.40</td>\n",
              "      <td>201.00</td>\n",
              "    </tr>\n",
              "    <tr>\n",
              "      <th>2</th>\n",
              "      <td>2003</td>\n",
              "      <td>81.5</td>\n",
              "      <td>92.20</td>\n",
              "      <td>173.70</td>\n",
              "    </tr>\n",
              "    <tr>\n",
              "      <th>3</th>\n",
              "      <td>2004</td>\n",
              "      <td>96.8</td>\n",
              "      <td>100.80</td>\n",
              "      <td>197.60</td>\n",
              "    </tr>\n",
              "    <tr>\n",
              "      <th>4</th>\n",
              "      <td>2005</td>\n",
              "      <td>100.1</td>\n",
              "      <td>99.00</td>\n",
              "      <td>199.10</td>\n",
              "    </tr>\n",
              "    <tr>\n",
              "      <th>5</th>\n",
              "      <td>2006</td>\n",
              "      <td>119.9</td>\n",
              "      <td>98.80</td>\n",
              "      <td>218.70</td>\n",
              "    </tr>\n",
              "    <tr>\n",
              "      <th>6</th>\n",
              "      <td>2007</td>\n",
              "      <td>72.7</td>\n",
              "      <td>84.10</td>\n",
              "      <td>156.80</td>\n",
              "    </tr>\n",
              "    <tr>\n",
              "      <th>7</th>\n",
              "      <td>2008</td>\n",
              "      <td>87.8</td>\n",
              "      <td>108.20</td>\n",
              "      <td>196.00</td>\n",
              "    </tr>\n",
              "    <tr>\n",
              "      <th>8</th>\n",
              "      <td>2009</td>\n",
              "      <td>92.7</td>\n",
              "      <td>98.80</td>\n",
              "      <td>191.50</td>\n",
              "    </tr>\n",
              "    <tr>\n",
              "      <th>9</th>\n",
              "      <td>2010</td>\n",
              "      <td>90.8</td>\n",
              "      <td>102.50</td>\n",
              "      <td>193.30</td>\n",
              "    </tr>\n",
              "    <tr>\n",
              "      <th>10</th>\n",
              "      <td>2011</td>\n",
              "      <td>85.2</td>\n",
              "      <td>130.22</td>\n",
              "      <td>215.42</td>\n",
              "    </tr>\n",
              "    <tr>\n",
              "      <th>11</th>\n",
              "      <td>2012</td>\n",
              "      <td>82.3</td>\n",
              "      <td>125.96</td>\n",
              "      <td>208.26</td>\n",
              "    </tr>\n",
              "    <tr>\n",
              "      <th>12</th>\n",
              "      <td>2013</td>\n",
              "      <td>91.0</td>\n",
              "      <td>128.06</td>\n",
              "      <td>219.06</td>\n",
              "    </tr>\n",
              "    <tr>\n",
              "      <th>13</th>\n",
              "      <td>2014</td>\n",
              "      <td>NaN</td>\n",
              "      <td>NaN</td>\n",
              "      <td>207.44</td>\n",
              "    </tr>\n",
              "    <tr>\n",
              "      <th>14</th>\n",
              "      <td>2015</td>\n",
              "      <td>NaN</td>\n",
              "      <td>NaN</td>\n",
              "      <td>228.66</td>\n",
              "    </tr>\n",
              "  </tbody>\n",
              "</table>\n",
              "</div>"
            ],
            "text/plain": [
              "    Year  ...  Tea Export From India\n",
              "0   2001  ...                 182.60\n",
              "1   2002  ...                 201.00\n",
              "2   2003  ...                 173.70\n",
              "3   2004  ...                 197.60\n",
              "4   2005  ...                 199.10\n",
              "5   2006  ...                 218.70\n",
              "6   2007  ...                 156.80\n",
              "7   2008  ...                 196.00\n",
              "8   2009  ...                 191.50\n",
              "9   2010  ...                 193.30\n",
              "10  2011  ...                 215.42\n",
              "11  2012  ...                 208.26\n",
              "12  2013  ...                 219.06\n",
              "13  2014  ...                 207.44\n",
              "14  2015  ...                 228.66\n",
              "\n",
              "[15 rows x 4 columns]"
            ]
          },
          "metadata": {},
          "execution_count": 16
        }
      ]
    },
    {
      "cell_type": "code",
      "metadata": {
        "id": "O4GSV2--DTjq"
      },
      "source": [
        "# Preprocessing steps to fill the null values by using Mean and median"
      ],
      "execution_count": 17,
      "outputs": []
    },
    {
      "cell_type": "code",
      "metadata": {
        "colab": {
          "base_uri": "https://localhost:8080/"
        },
        "id": "AVSFTOlQOG1N",
        "outputId": "d5ec0c7b-81aa-4f58-bf63-6db83c9df041"
      },
      "source": [
        "df.isnull().sum()\n"
      ],
      "execution_count": 18,
      "outputs": [
        {
          "output_type": "execute_result",
          "data": {
            "text/plain": [
              "Year                           0\n",
              "Tea Export From South India    2\n",
              "Tea Export From North India    2\n",
              "Tea Export From India          0\n",
              "dtype: int64"
            ]
          },
          "metadata": {},
          "execution_count": 18
        }
      ]
    },
    {
      "cell_type": "code",
      "metadata": {
        "id": "J-Txtbc9Okjd"
      },
      "source": [
        ""
      ],
      "execution_count": 18,
      "outputs": []
    },
    {
      "cell_type": "code",
      "metadata": {
        "id": "AT-oKvISOYtl"
      },
      "source": [
        "# To fill the null values by using the median\n",
        "for x in df.columns:\n",
        "  if (np.dtype(df[x])== 'float' or (np.dtype(df[x]))=='int64'):\n",
        "    df[x] = np.where(df[x].isnull(),df[x].median(),df[x])"
      ],
      "execution_count": 19,
      "outputs": []
    },
    {
      "cell_type": "code",
      "metadata": {
        "colab": {
          "base_uri": "https://localhost:8080/"
        },
        "id": "hM6uIrl2OlFG",
        "outputId": "2af41e87-cd49-4ff1-8f94-8db3b36c9f7b"
      },
      "source": [
        "df.isnull().sum()"
      ],
      "execution_count": 20,
      "outputs": [
        {
          "output_type": "execute_result",
          "data": {
            "text/plain": [
              "Year                           0\n",
              "Tea Export From South India    0\n",
              "Tea Export From North India    0\n",
              "Tea Export From India          0\n",
              "dtype: int64"
            ]
          },
          "metadata": {},
          "execution_count": 20
        }
      ]
    },
    {
      "cell_type": "code",
      "metadata": {
        "id": "sRFvICVmOnsL"
      },
      "source": [
        "df.set_index(df['Year'],inplace = True)"
      ],
      "execution_count": 22,
      "outputs": []
    },
    {
      "cell_type": "code",
      "metadata": {
        "colab": {
          "base_uri": "https://localhost:8080/",
          "height": 238
        },
        "id": "897XTNhwOudf",
        "outputId": "09bff339-358b-4e9f-ef71-229cb220ab66"
      },
      "source": [
        "df.head()"
      ],
      "execution_count": 23,
      "outputs": [
        {
          "output_type": "execute_result",
          "data": {
            "text/html": [
              "<div>\n",
              "<style scoped>\n",
              "    .dataframe tbody tr th:only-of-type {\n",
              "        vertical-align: middle;\n",
              "    }\n",
              "\n",
              "    .dataframe tbody tr th {\n",
              "        vertical-align: top;\n",
              "    }\n",
              "\n",
              "    .dataframe thead th {\n",
              "        text-align: right;\n",
              "    }\n",
              "</style>\n",
              "<table border=\"1\" class=\"dataframe\">\n",
              "  <thead>\n",
              "    <tr style=\"text-align: right;\">\n",
              "      <th></th>\n",
              "      <th>Year</th>\n",
              "      <th>Tea Export From South India</th>\n",
              "      <th>Tea Export From North India</th>\n",
              "      <th>Tea Export From India</th>\n",
              "    </tr>\n",
              "    <tr>\n",
              "      <th>Year</th>\n",
              "      <th></th>\n",
              "      <th></th>\n",
              "      <th></th>\n",
              "      <th></th>\n",
              "    </tr>\n",
              "  </thead>\n",
              "  <tbody>\n",
              "    <tr>\n",
              "      <th>2001.0</th>\n",
              "      <td>2001.0</td>\n",
              "      <td>97.2</td>\n",
              "      <td>85.4</td>\n",
              "      <td>182.6</td>\n",
              "    </tr>\n",
              "    <tr>\n",
              "      <th>2002.0</th>\n",
              "      <td>2002.0</td>\n",
              "      <td>106.6</td>\n",
              "      <td>94.4</td>\n",
              "      <td>201.0</td>\n",
              "    </tr>\n",
              "    <tr>\n",
              "      <th>2003.0</th>\n",
              "      <td>2003.0</td>\n",
              "      <td>81.5</td>\n",
              "      <td>92.2</td>\n",
              "      <td>173.7</td>\n",
              "    </tr>\n",
              "    <tr>\n",
              "      <th>2004.0</th>\n",
              "      <td>2004.0</td>\n",
              "      <td>96.8</td>\n",
              "      <td>100.8</td>\n",
              "      <td>197.6</td>\n",
              "    </tr>\n",
              "    <tr>\n",
              "      <th>2005.0</th>\n",
              "      <td>2005.0</td>\n",
              "      <td>100.1</td>\n",
              "      <td>99.0</td>\n",
              "      <td>199.1</td>\n",
              "    </tr>\n",
              "  </tbody>\n",
              "</table>\n",
              "</div>"
            ],
            "text/plain": [
              "          Year  ...  Tea Export From India\n",
              "Year            ...                       \n",
              "2001.0  2001.0  ...                  182.6\n",
              "2002.0  2002.0  ...                  201.0\n",
              "2003.0  2003.0  ...                  173.7\n",
              "2004.0  2004.0  ...                  197.6\n",
              "2005.0  2005.0  ...                  199.1\n",
              "\n",
              "[5 rows x 4 columns]"
            ]
          },
          "metadata": {},
          "execution_count": 23
        }
      ]
    },
    {
      "cell_type": "code",
      "metadata": {
        "colab": {
          "base_uri": "https://localhost:8080/",
          "height": 312
        },
        "id": "XkeVDlRdOwUP",
        "outputId": "1ba53c55-dff9-4fef-f677-2708f23141d4"
      },
      "source": [
        "# based on the graphs which year has maixmum export in south india\n",
        "df['Tea Export From South India'].plot()\n",
        "plt.ylabel('Export')\n",
        "plt.title('Export in south india ')"
      ],
      "execution_count": null,
      "outputs": [
        {
          "output_type": "execute_result",
          "data": {
            "text/plain": [
              "Text(0.5, 1.0, 'Export in south india ')"
            ]
          },
          "metadata": {},
          "execution_count": 13
        },
        {
          "output_type": "display_data",
          "data": {
            "image/png": "[encoded data removed]",
            "text/plain": [
              "<Figure size 432x288 with 1 Axes>"
            ]
          },
          "metadata": {
            "needs_background": "light"
          }
        }
      ]
    },
    {
      "cell_type": "code",
      "metadata": {
        "id": "IvngMbTsFJQB"
      },
      "source": [
        "#Based on the graph which year has maximum year in the North India"
      ],
      "execution_count": 24,
      "outputs": []
    },
    {
      "cell_type": "code",
      "metadata": {
        "colab": {
          "base_uri": "https://localhost:8080/",
          "height": 312
        },
        "id": "_g3hWWrAQPUr",
        "outputId": "bc42c870-e579-4773-efe1-6b196a98a17d"
      },
      "source": [
        "df['Tea Export From North India'].plot()\n",
        "plt.ylabel('Export')\n",
        "plt.title('Export in North india')"
      ],
      "execution_count": null,
      "outputs": [
        {
          "output_type": "execute_result",
          "data": {
            "text/plain": [
              "Text(0.5, 1.0, 'Export in North india')"
            ]
          },
          "metadata": {},
          "execution_count": 14
        },
        {
          "output_type": "display_data",
          "data": {
            "image/png": "[encoded data removed]",
            "text/plain": [
              "<Figure size 432x288 with 1 Axes>"
            ]
          },
          "metadata": {
            "needs_background": "light"
          }
        }
      ]
    },
    {
      "cell_type": "code",
      "metadata": {
        "id": "TFUDcXAxFS84"
      },
      "source": [
        "# Based on the Graphs which year has maximum export in India"
      ],
      "execution_count": null,
      "outputs": []
    },
    {
      "cell_type": "code",
      "metadata": {
        "colab": {
          "base_uri": "https://localhost:8080/",
          "height": 312
        },
        "id": "uM3mzZJJQbiX",
        "outputId": "b704698e-6c50-403c-8b5e-626808998039"
      },
      "source": [
        "df['Tea Export From India'].plot()\n",
        "plt.ylabel('Export')\n",
        "plt.title('Export in India')"
      ],
      "execution_count": null,
      "outputs": [
        {
          "output_type": "execute_result",
          "data": {
            "text/plain": [
              "Text(0.5, 1.0, 'Export in India')"
            ]
          },
          "metadata": {},
          "execution_count": 15
        },
        {
          "output_type": "display_data",
          "data": {
            "image/png": "[encoded data removed]",
            "text/plain": [
              "<Figure size 432x288 with 1 Axes>"
            ]
          },
          "metadata": {
            "needs_background": "light"
          }
        }
      ]
    },
    {
      "cell_type": "code",
      "metadata": {
        "id": "5HgO2nxGFgQl"
      },
      "source": [
        "# As comparision which has maximum export happen in north or south india."
      ],
      "execution_count": null,
      "outputs": []
    },
    {
      "cell_type": "code",
      "metadata": {
        "colab": {
          "base_uri": "https://localhost:8080/",
          "height": 647
        },
        "id": "oQ6a_hGwQo8Z",
        "outputId": "d25a4cc4-a82f-45b6-e87b-ee109222bab6"
      },
      "source": [
        "df[['Tea Export From South India','Tea Export From North India']].plot(kind='bar',figsize=(10,10))"
      ],
      "execution_count": null,
      "outputs": [
        {
          "output_type": "execute_result",
          "data": {
            "text/plain": [
              "<matplotlib.axes._subplots.AxesSubplot at 0x7fbb29504610>"
            ]
          },
          "metadata": {},
          "execution_count": 20
        },
        {
          "output_type": "display_data",
          "data": {
            "image/png": "[encoded data removed]",
            "text/plain": [
              "<Figure size 720x720 with 1 Axes>"
            ]
          },
          "metadata": {
            "needs_background": "light"
          }
        }
      ]
    },
    {
      "cell_type": "code",
      "metadata": {
        "id": "fFaM3j32RRgx"
      },
      "source": [
        ""
      ],
      "execution_count": null,
      "outputs": []
    }
  ]
}