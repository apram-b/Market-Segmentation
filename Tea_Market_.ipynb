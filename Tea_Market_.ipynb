{
  "nbformat": 4,
  "nbformat_minor": 0,
  "metadata": {
    "colab": {
      "name": "Tea Market .ipynb",
      "provenance": []
    },
    "kernelspec": {
      "name": "python3",
      "display_name": "Python 3"
    },
    "language_info": {
      "name": "python"
    }
  },
  "cells": [
    {
      "cell_type": "code",
      "metadata": {
        "id": "D9kSTSKmA2DA"
      },
      "source": [
        "import  pandas as pd \n",
        "import numpy as np \n",
        "import matplotlib.pyplot as plt \n",
        "import seaborn as sns"
      ],
      "execution_count": null,
      "outputs": []
    },
    {
      "cell_type": "code",
      "metadata": {
        "id": "kkgFwYBwANSd"
      },
      "source": [
        "# Area under cultivation\n",
        "df = pd.read_excel('/content/Area Under Tea Cultivation.xlsx')"
      ],
      "execution_count": null,
      "outputs": []
    },
    {
      "cell_type": "code",
      "metadata": {
        "colab": {
          "base_uri": "https://localhost:8080/",
          "height": 520
        },
        "id": "l9degT2qBF4F",
        "outputId": "231531b4-a600-4ab5-a047-1ebea2f03ac1"
      },
      "source": [
        "df"
      ],
      "execution_count": null,
      "outputs": [
        {
          "output_type": "execute_result",
          "data": {
            "text/html": [
              "<div>\n",
              "<style scoped>\n",
              "    .dataframe tbody tr th:only-of-type {\n",
              "        vertical-align: middle;\n",
              "    }\n",
              "\n",
              "    .dataframe tbody tr th {\n",
              "        vertical-align: top;\n",
              "    }\n",
              "\n",
              "    .dataframe thead th {\n",
              "        text-align: right;\n",
              "    }\n",
              "</style>\n",
              "<table border=\"1\" class=\"dataframe\">\n",
              "  <thead>\n",
              "    <tr style=\"text-align: right;\">\n",
              "      <th></th>\n",
              "      <th>Year</th>\n",
              "      <th>Area Under Tea In Tamil Nadu</th>\n",
              "      <th>Area Under Tea In Kerala</th>\n",
              "      <th>Area Under Tea In Karnataka</th>\n",
              "      <th>Area Under Tea In South India</th>\n",
              "      <th>Area Under Tea In India</th>\n",
              "    </tr>\n",
              "  </thead>\n",
              "  <tbody>\n",
              "    <tr>\n",
              "      <th>0</th>\n",
              "      <td>2001</td>\n",
              "      <td>75625.0</td>\n",
              "      <td>36940.0</td>\n",
              "      <td>2128.0</td>\n",
              "      <td>114693.0</td>\n",
              "      <td>509806.0</td>\n",
              "    </tr>\n",
              "    <tr>\n",
              "      <th>1</th>\n",
              "      <td>2002</td>\n",
              "      <td>75619.0</td>\n",
              "      <td>36967.0</td>\n",
              "      <td>2128.0</td>\n",
              "      <td>114714.0</td>\n",
              "      <td>515832.0</td>\n",
              "    </tr>\n",
              "    <tr>\n",
              "      <th>2</th>\n",
              "      <td>2003</td>\n",
              "      <td>75619.0</td>\n",
              "      <td>36967.0</td>\n",
              "      <td>2128.0</td>\n",
              "      <td>114714.0</td>\n",
              "      <td>519598.0</td>\n",
              "    </tr>\n",
              "    <tr>\n",
              "      <th>3</th>\n",
              "      <td>2004</td>\n",
              "      <td>75978.0</td>\n",
              "      <td>37107.0</td>\n",
              "      <td>2128.0</td>\n",
              "      <td>115213.0</td>\n",
              "      <td>519598.0</td>\n",
              "    </tr>\n",
              "    <tr>\n",
              "      <th>4</th>\n",
              "      <td>2005</td>\n",
              "      <td>80939.0</td>\n",
              "      <td>36772.0</td>\n",
              "      <td>2112.0</td>\n",
              "      <td>119823.0</td>\n",
              "      <td>521403.0</td>\n",
              "    </tr>\n",
              "    <tr>\n",
              "      <th>5</th>\n",
              "      <td>2006</td>\n",
              "      <td>81279.0</td>\n",
              "      <td>36236.0</td>\n",
              "      <td>2137.0</td>\n",
              "      <td>119649.0</td>\n",
              "      <td>567020.0</td>\n",
              "    </tr>\n",
              "    <tr>\n",
              "      <th>6</th>\n",
              "      <td>2007</td>\n",
              "      <td>80903.0</td>\n",
              "      <td>37139.0</td>\n",
              "      <td>2141.0</td>\n",
              "      <td>120181.0</td>\n",
              "      <td>578458.0</td>\n",
              "    </tr>\n",
              "    <tr>\n",
              "      <th>7</th>\n",
              "      <td>2008</td>\n",
              "      <td>80903.0</td>\n",
              "      <td>37139.0</td>\n",
              "      <td>2141.0</td>\n",
              "      <td>120181.0</td>\n",
              "      <td>579353.0</td>\n",
              "    </tr>\n",
              "    <tr>\n",
              "      <th>8</th>\n",
              "      <td>2009</td>\n",
              "      <td>80903.0</td>\n",
              "      <td>37139.0</td>\n",
              "      <td>2141.0</td>\n",
              "      <td>120181.0</td>\n",
              "      <td>579000.0</td>\n",
              "    </tr>\n",
              "    <tr>\n",
              "      <th>9</th>\n",
              "      <td>2010</td>\n",
              "      <td>80903.0</td>\n",
              "      <td>37139.0</td>\n",
              "      <td>2141.0</td>\n",
              "      <td>120181.0</td>\n",
              "      <td>579400.0</td>\n",
              "    </tr>\n",
              "    <tr>\n",
              "      <th>10</th>\n",
              "      <td>2011</td>\n",
              "      <td>80903.0</td>\n",
              "      <td>37139.0</td>\n",
              "      <td>2141.0</td>\n",
              "      <td>120181.0</td>\n",
              "      <td>579400.0</td>\n",
              "    </tr>\n",
              "    <tr>\n",
              "      <th>11</th>\n",
              "      <td>2012</td>\n",
              "      <td>80460.0</td>\n",
              "      <td>37140.0</td>\n",
              "      <td>2140.0</td>\n",
              "      <td>119740.0</td>\n",
              "      <td>579350.0</td>\n",
              "    </tr>\n",
              "    <tr>\n",
              "      <th>12</th>\n",
              "      <td>2013</td>\n",
              "      <td>NaN</td>\n",
              "      <td>NaN</td>\n",
              "      <td>NaN</td>\n",
              "      <td>NaN</td>\n",
              "      <td>NaN</td>\n",
              "    </tr>\n",
              "    <tr>\n",
              "      <th>13</th>\n",
              "      <td>2014</td>\n",
              "      <td>NaN</td>\n",
              "      <td>NaN</td>\n",
              "      <td>NaN</td>\n",
              "      <td>NaN</td>\n",
              "      <td>NaN</td>\n",
              "    </tr>\n",
              "    <tr>\n",
              "      <th>14</th>\n",
              "      <td>2015</td>\n",
              "      <td>69620.0</td>\n",
              "      <td>35010.0</td>\n",
              "      <td>2220.0</td>\n",
              "      <td>106850.0</td>\n",
              "      <td>566660.0</td>\n",
              "    </tr>\n",
              "  </tbody>\n",
              "</table>\n",
              "</div>"
            ],
            "text/plain": [
              "    Year  ...  Area Under Tea In India\n",
              "0   2001  ...                 509806.0\n",
              "1   2002  ...                 515832.0\n",
              "2   2003  ...                 519598.0\n",
              "3   2004  ...                 519598.0\n",
              "4   2005  ...                 521403.0\n",
              "5   2006  ...                 567020.0\n",
              "6   2007  ...                 578458.0\n",
              "7   2008  ...                 579353.0\n",
              "8   2009  ...                 579000.0\n",
              "9   2010  ...                 579400.0\n",
              "10  2011  ...                 579400.0\n",
              "11  2012  ...                 579350.0\n",
              "12  2013  ...                      NaN\n",
              "13  2014  ...                      NaN\n",
              "14  2015  ...                 566660.0\n",
              "\n",
              "[15 rows x 6 columns]"
            ]
          },
          "metadata": {},
          "execution_count": 3
        }
      ]
    },
    {
      "cell_type": "code",
      "metadata": {
        "id": "26Tn0O7zBK0x"
      },
      "source": [
        "# By treating that null values in each columns "
      ],
      "execution_count": null,
      "outputs": []
    },
    {
      "cell_type": "code",
      "metadata": {
        "colab": {
          "base_uri": "https://localhost:8080/"
        },
        "id": "STbHZ7sZBfaG",
        "outputId": "485b6702-5007-4fd6-f479-944dcc1642e6"
      },
      "source": [
        "df.isnull().sum()"
      ],
      "execution_count": null,
      "outputs": [
        {
          "output_type": "execute_result",
          "data": {
            "text/plain": [
              "Year                             0\n",
              "Area Under Tea In Tamil Nadu     2\n",
              "Area Under Tea In Kerala         2\n",
              "Area Under Tea In Karnataka      2\n",
              "Area Under Tea In South India    2\n",
              "Area Under Tea In India          2\n",
              "dtype: int64"
            ]
          },
          "metadata": {},
          "execution_count": 5
        }
      ]
    },
    {
      "cell_type": "code",
      "metadata": {
        "id": "CP4Kjg8GBwOc"
      },
      "source": [
        "# To fill the null values by using the median\n",
        "for x in df.columns:\n",
        "  if (np.dtype(df[x])== 'float' or (np.dtype(df[x]))=='int64'):\n",
        "    df[x] = np.where(df[x].isnull(),df[x].median(),df[x])"
      ],
      "execution_count": null,
      "outputs": []
    },
    {
      "cell_type": "code",
      "metadata": {
        "colab": {
          "base_uri": "https://localhost:8080/"
        },
        "id": "DJCdUYvACu0R",
        "outputId": "1be39e36-bef6-49c5-cbf4-0d523321b1dd"
      },
      "source": [
        "df.isnull().sum()"
      ],
      "execution_count": null,
      "outputs": [
        {
          "output_type": "execute_result",
          "data": {
            "text/plain": [
              "Year                             0\n",
              "Area Under Tea In Tamil Nadu     0\n",
              "Area Under Tea In Kerala         0\n",
              "Area Under Tea In Karnataka      0\n",
              "Area Under Tea In South India    0\n",
              "Area Under Tea In India          0\n",
              "dtype: int64"
            ]
          },
          "metadata": {},
          "execution_count": 7
        }
      ]
    },
    {
      "cell_type": "code",
      "metadata": {
        "colab": {
          "base_uri": "https://localhost:8080/",
          "height": 520
        },
        "id": "sA_I-fiKC0U_",
        "outputId": "d7c42002-73d0-4527-9a9d-8430d8aeea3d"
      },
      "source": [
        "df"
      ],
      "execution_count": null,
      "outputs": [
        {
          "output_type": "execute_result",
          "data": {
            "text/html": [
              "<div>\n",
              "<style scoped>\n",
              "    .dataframe tbody tr th:only-of-type {\n",
              "        vertical-align: middle;\n",
              "    }\n",
              "\n",
              "    .dataframe tbody tr th {\n",
              "        vertical-align: top;\n",
              "    }\n",
              "\n",
              "    .dataframe thead th {\n",
              "        text-align: right;\n",
              "    }\n",
              "</style>\n",
              "<table border=\"1\" class=\"dataframe\">\n",
              "  <thead>\n",
              "    <tr style=\"text-align: right;\">\n",
              "      <th></th>\n",
              "      <th>Year</th>\n",
              "      <th>Area Under Tea In Tamil Nadu</th>\n",
              "      <th>Area Under Tea In Kerala</th>\n",
              "      <th>Area Under Tea In Karnataka</th>\n",
              "      <th>Area Under Tea In South India</th>\n",
              "      <th>Area Under Tea In India</th>\n",
              "    </tr>\n",
              "  </thead>\n",
              "  <tbody>\n",
              "    <tr>\n",
              "      <th>0</th>\n",
              "      <td>2001.0</td>\n",
              "      <td>75625.0</td>\n",
              "      <td>36940.0</td>\n",
              "      <td>2128.0</td>\n",
              "      <td>114693.0</td>\n",
              "      <td>509806.0</td>\n",
              "    </tr>\n",
              "    <tr>\n",
              "      <th>1</th>\n",
              "      <td>2002.0</td>\n",
              "      <td>75619.0</td>\n",
              "      <td>36967.0</td>\n",
              "      <td>2128.0</td>\n",
              "      <td>114714.0</td>\n",
              "      <td>515832.0</td>\n",
              "    </tr>\n",
              "    <tr>\n",
              "      <th>2</th>\n",
              "      <td>2003.0</td>\n",
              "      <td>75619.0</td>\n",
              "      <td>36967.0</td>\n",
              "      <td>2128.0</td>\n",
              "      <td>114714.0</td>\n",
              "      <td>519598.0</td>\n",
              "    </tr>\n",
              "    <tr>\n",
              "      <th>3</th>\n",
              "      <td>2004.0</td>\n",
              "      <td>75978.0</td>\n",
              "      <td>37107.0</td>\n",
              "      <td>2128.0</td>\n",
              "      <td>115213.0</td>\n",
              "      <td>519598.0</td>\n",
              "    </tr>\n",
              "    <tr>\n",
              "      <th>4</th>\n",
              "      <td>2005.0</td>\n",
              "      <td>80939.0</td>\n",
              "      <td>36772.0</td>\n",
              "      <td>2112.0</td>\n",
              "      <td>119823.0</td>\n",
              "      <td>521403.0</td>\n",
              "    </tr>\n",
              "    <tr>\n",
              "      <th>5</th>\n",
              "      <td>2006.0</td>\n",
              "      <td>81279.0</td>\n",
              "      <td>36236.0</td>\n",
              "      <td>2137.0</td>\n",
              "      <td>119649.0</td>\n",
              "      <td>567020.0</td>\n",
              "    </tr>\n",
              "    <tr>\n",
              "      <th>6</th>\n",
              "      <td>2007.0</td>\n",
              "      <td>80903.0</td>\n",
              "      <td>37139.0</td>\n",
              "      <td>2141.0</td>\n",
              "      <td>120181.0</td>\n",
              "      <td>578458.0</td>\n",
              "    </tr>\n",
              "    <tr>\n",
              "      <th>7</th>\n",
              "      <td>2008.0</td>\n",
              "      <td>80903.0</td>\n",
              "      <td>37139.0</td>\n",
              "      <td>2141.0</td>\n",
              "      <td>120181.0</td>\n",
              "      <td>579353.0</td>\n",
              "    </tr>\n",
              "    <tr>\n",
              "      <th>8</th>\n",
              "      <td>2009.0</td>\n",
              "      <td>80903.0</td>\n",
              "      <td>37139.0</td>\n",
              "      <td>2141.0</td>\n",
              "      <td>120181.0</td>\n",
              "      <td>579000.0</td>\n",
              "    </tr>\n",
              "    <tr>\n",
              "      <th>9</th>\n",
              "      <td>2010.0</td>\n",
              "      <td>80903.0</td>\n",
              "      <td>37139.0</td>\n",
              "      <td>2141.0</td>\n",
              "      <td>120181.0</td>\n",
              "      <td>579400.0</td>\n",
              "    </tr>\n",
              "    <tr>\n",
              "      <th>10</th>\n",
              "      <td>2011.0</td>\n",
              "      <td>80903.0</td>\n",
              "      <td>37139.0</td>\n",
              "      <td>2141.0</td>\n",
              "      <td>120181.0</td>\n",
              "      <td>579400.0</td>\n",
              "    </tr>\n",
              "    <tr>\n",
              "      <th>11</th>\n",
              "      <td>2012.0</td>\n",
              "      <td>80460.0</td>\n",
              "      <td>37140.0</td>\n",
              "      <td>2140.0</td>\n",
              "      <td>119740.0</td>\n",
              "      <td>579350.0</td>\n",
              "    </tr>\n",
              "    <tr>\n",
              "      <th>12</th>\n",
              "      <td>2013.0</td>\n",
              "      <td>80903.0</td>\n",
              "      <td>37107.0</td>\n",
              "      <td>2140.0</td>\n",
              "      <td>119740.0</td>\n",
              "      <td>567020.0</td>\n",
              "    </tr>\n",
              "    <tr>\n",
              "      <th>13</th>\n",
              "      <td>2014.0</td>\n",
              "      <td>80903.0</td>\n",
              "      <td>37107.0</td>\n",
              "      <td>2140.0</td>\n",
              "      <td>119740.0</td>\n",
              "      <td>567020.0</td>\n",
              "    </tr>\n",
              "    <tr>\n",
              "      <th>14</th>\n",
              "      <td>2015.0</td>\n",
              "      <td>69620.0</td>\n",
              "      <td>35010.0</td>\n",
              "      <td>2220.0</td>\n",
              "      <td>106850.0</td>\n",
              "      <td>566660.0</td>\n",
              "    </tr>\n",
              "  </tbody>\n",
              "</table>\n",
              "</div>"
            ],
            "text/plain": [
              "      Year  ...  Area Under Tea In India\n",
              "0   2001.0  ...                 509806.0\n",
              "1   2002.0  ...                 515832.0\n",
              "2   2003.0  ...                 519598.0\n",
              "3   2004.0  ...                 519598.0\n",
              "4   2005.0  ...                 521403.0\n",
              "5   2006.0  ...                 567020.0\n",
              "6   2007.0  ...                 578458.0\n",
              "7   2008.0  ...                 579353.0\n",
              "8   2009.0  ...                 579000.0\n",
              "9   2010.0  ...                 579400.0\n",
              "10  2011.0  ...                 579400.0\n",
              "11  2012.0  ...                 579350.0\n",
              "12  2013.0  ...                 567020.0\n",
              "13  2014.0  ...                 567020.0\n",
              "14  2015.0  ...                 566660.0\n",
              "\n",
              "[15 rows x 6 columns]"
            ]
          },
          "metadata": {},
          "execution_count": 8
        }
      ]
    },
    {
      "cell_type": "code",
      "metadata": {
        "id": "riFuMr3aC5wO"
      },
      "source": [
        "df.set_index(df['Year'],inplace = True)"
      ],
      "execution_count": null,
      "outputs": []
    },
    {
      "cell_type": "code",
      "metadata": {
        "colab": {
          "base_uri": "https://localhost:8080/",
          "height": 238
        },
        "id": "jKeSEFeOH8XO",
        "outputId": "f15a6c71-e78a-4e2b-fdf4-991336c44617"
      },
      "source": [
        "df.head()"
      ],
      "execution_count": null,
      "outputs": [
        {
          "output_type": "execute_result",
          "data": {
            "text/html": [
              "<div>\n",
              "<style scoped>\n",
              "    .dataframe tbody tr th:only-of-type {\n",
              "        vertical-align: middle;\n",
              "    }\n",
              "\n",
              "    .dataframe tbody tr th {\n",
              "        vertical-align: top;\n",
              "    }\n",
              "\n",
              "    .dataframe thead th {\n",
              "        text-align: right;\n",
              "    }\n",
              "</style>\n",
              "<table border=\"1\" class=\"dataframe\">\n",
              "  <thead>\n",
              "    <tr style=\"text-align: right;\">\n",
              "      <th></th>\n",
              "      <th>Year</th>\n",
              "      <th>Area Under Tea In Tamil Nadu</th>\n",
              "      <th>Area Under Tea In Kerala</th>\n",
              "      <th>Area Under Tea In Karnataka</th>\n",
              "      <th>Area Under Tea In South India</th>\n",
              "      <th>Area Under Tea In India</th>\n",
              "    </tr>\n",
              "    <tr>\n",
              "      <th>Year</th>\n",
              "      <th></th>\n",
              "      <th></th>\n",
              "      <th></th>\n",
              "      <th></th>\n",
              "      <th></th>\n",
              "      <th></th>\n",
              "    </tr>\n",
              "  </thead>\n",
              "  <tbody>\n",
              "    <tr>\n",
              "      <th>2001.0</th>\n",
              "      <td>2001.0</td>\n",
              "      <td>75625.0</td>\n",
              "      <td>36940.0</td>\n",
              "      <td>2128.0</td>\n",
              "      <td>114693.0</td>\n",
              "      <td>509806.0</td>\n",
              "    </tr>\n",
              "    <tr>\n",
              "      <th>2002.0</th>\n",
              "      <td>2002.0</td>\n",
              "      <td>75619.0</td>\n",
              "      <td>36967.0</td>\n",
              "      <td>2128.0</td>\n",
              "      <td>114714.0</td>\n",
              "      <td>515832.0</td>\n",
              "    </tr>\n",
              "    <tr>\n",
              "      <th>2003.0</th>\n",
              "      <td>2003.0</td>\n",
              "      <td>75619.0</td>\n",
              "      <td>36967.0</td>\n",
              "      <td>2128.0</td>\n",
              "      <td>114714.0</td>\n",
              "      <td>519598.0</td>\n",
              "    </tr>\n",
              "    <tr>\n",
              "      <th>2004.0</th>\n",
              "      <td>2004.0</td>\n",
              "      <td>75978.0</td>\n",
              "      <td>37107.0</td>\n",
              "      <td>2128.0</td>\n",
              "      <td>115213.0</td>\n",
              "      <td>519598.0</td>\n",
              "    </tr>\n",
              "    <tr>\n",
              "      <th>2005.0</th>\n",
              "      <td>2005.0</td>\n",
              "      <td>80939.0</td>\n",
              "      <td>36772.0</td>\n",
              "      <td>2112.0</td>\n",
              "      <td>119823.0</td>\n",
              "      <td>521403.0</td>\n",
              "    </tr>\n",
              "  </tbody>\n",
              "</table>\n",
              "</div>"
            ],
            "text/plain": [
              "          Year  ...  Area Under Tea In India\n",
              "Year            ...                         \n",
              "2001.0  2001.0  ...                 509806.0\n",
              "2002.0  2002.0  ...                 515832.0\n",
              "2003.0  2003.0  ...                 519598.0\n",
              "2004.0  2004.0  ...                 519598.0\n",
              "2005.0  2005.0  ...                 521403.0\n",
              "\n",
              "[5 rows x 6 columns]"
            ]
          },
          "metadata": {},
          "execution_count": 10
        }
      ]
    },
    {
      "cell_type": "code",
      "metadata": {
        "id": "g55XmSURIK5o"
      },
      "source": [
        "\n",
        "\n",
        "df.sort_values('Area Under Tea In Tamil Nadu',inplace=True)\n",
        "\n",
        " \n",
        "\n",
        " \n"
      ],
      "execution_count": null,
      "outputs": []
    },
    {
      "cell_type": "code",
      "metadata": {
        "colab": {
          "base_uri": "https://localhost:8080/",
          "height": 282
        },
        "id": "xi23_gMQX6HR",
        "outputId": "e135d6d1-51a5-47d1-cfc4-68ad185c0b3b"
      },
      "source": [
        "df.plot(kind='barh',y='Area Under Tea In Tamil Nadu',x='Year',color='b')"
      ],
      "execution_count": null,
      "outputs": [
        {
          "output_type": "execute_result",
          "data": {
            "text/plain": [
              "<matplotlib.axes._subplots.AxesSubplot at 0x7f117b549250>"
            ]
          },
          "metadata": {},
          "execution_count": 12
        },
        {
          "output_type": "display_data",
          "data": {
            "image/png": "[encoded data removed]",
            "text/plain": [
              "<Figure size 432x288 with 1 Axes>"
            ]
          },
          "metadata": {
            "needs_background": "light"
          }
        }
      ]
    },
    {
      "cell_type": "code",
      "metadata": {
        "id": "-Te54EVbLSk7"
      },
      "source": [
        "# In tamil nadu state 2006 has highest year of tea production\n"
      ],
      "execution_count": null,
      "outputs": []
    },
    {
      "cell_type": "code",
      "metadata": {
        "id": "aJUcsBIqXECR"
      },
      "source": [
        "df.sort_values('Area Under Tea In Kerala',inplace=True)"
      ],
      "execution_count": null,
      "outputs": []
    },
    {
      "cell_type": "code",
      "metadata": {
        "colab": {
          "base_uri": "https://localhost:8080/",
          "height": 282
        },
        "id": "w9yZIFW6XVIq",
        "outputId": "2b3a032a-6e68-4295-e4c6-48266ee0dae0"
      },
      "source": [
        "df.plot(kind='barh',y='Area Under Tea In Kerala',x='Year',color='b')"
      ],
      "execution_count": null,
      "outputs": [
        {
          "output_type": "execute_result",
          "data": {
            "text/plain": [
              "<matplotlib.axes._subplots.AxesSubplot at 0x7f117a673d10>"
            ]
          },
          "metadata": {},
          "execution_count": 15
        },
        {
          "output_type": "display_data",
          "data": {
            "image/png": "[encoded data removed]",
            "text/plain": [
              "<Figure size 432x288 with 1 Axes>"
            ]
          },
          "metadata": {
            "needs_background": "light"
          }
        }
      ]
    },
    {
      "cell_type": "code",
      "metadata": {
        "id": "RR7NiwKZXcBx"
      },
      "source": [
        "# as per the graph kerala is the 2012 has highest production recorded in kerala"
      ],
      "execution_count": null,
      "outputs": []
    },
    {
      "cell_type": "code",
      "metadata": {
        "colab": {
          "base_uri": "https://localhost:8080/",
          "height": 282
        },
        "id": "PH5AcyOFXrkF",
        "outputId": "a6fb49fa-6d29-4bc2-916e-ff22f4fb4818"
      },
      "source": [
        "df.sort_values('Area Under Tea In Karnataka',inplace=True)\n",
        "df.plot(kind='barh',y='Area Under Tea In Karnataka',x='Year',color='b')"
      ],
      "execution_count": null,
      "outputs": [
        {
          "output_type": "execute_result",
          "data": {
            "text/plain": [
              "<matplotlib.axes._subplots.AxesSubplot at 0x7f117a5e9110>"
            ]
          },
          "metadata": {},
          "execution_count": 17
        },
        {
          "output_type": "display_data",
          "data": {
            "image/png": "[encoded data removed]",
            "text/plain": [
              "<Figure size 432x288 with 1 Axes>"
            ]
          },
          "metadata": {
            "needs_background": "light"
          }
        }
      ]
    },
    {
      "cell_type": "code",
      "metadata": {
        "id": "tR1rGd_TYTwS"
      },
      "source": [
        "# as per the graph 2015 has the highes crop prodcutin in Karnataka state"
      ],
      "execution_count": null,
      "outputs": []
    },
    {
      "cell_type": "code",
      "metadata": {
        "colab": {
          "base_uri": "https://localhost:8080/",
          "height": 282
        },
        "id": "XyiGwJziYfBn",
        "outputId": "551fb284-f935-4f8d-cd5a-d5b34603120a"
      },
      "source": [
        "df.sort_values('Area Under Tea In South India',inplace=True)\n",
        "df.plot(kind='barh',y='Area Under Tea In South India',x='Year',color='b')"
      ],
      "execution_count": null,
      "outputs": [
        {
          "output_type": "execute_result",
          "data": {
            "text/plain": [
              "<matplotlib.axes._subplots.AxesSubplot at 0x7f117a4f6c10>"
            ]
          },
          "metadata": {},
          "execution_count": 19
        },
        {
          "output_type": "display_data",
          "data": {
            "image/png": "[encoded data removed]",
            "text/plain": [
              "<Figure size 432x288 with 1 Axes>"
            ]
          },
          "metadata": {
            "needs_background": "light"
          }
        }
      ]
    },
    {
      "cell_type": "code",
      "metadata": {
        "id": "MQjbFOOaYng4"
      },
      "source": [
        "# As per the graph 2011 has highest cultivation in South indian state"
      ],
      "execution_count": null,
      "outputs": []
    },
    {
      "cell_type": "code",
      "metadata": {
        "colab": {
          "base_uri": "https://localhost:8080/",
          "height": 282
        },
        "id": "Y1bIr-YIYv36",
        "outputId": "ef122002-0a73-46e8-9865-41d256bba683"
      },
      "source": [
        "df.sort_values('Area Under Tea In India',inplace=True)\n",
        "df.plot(kind='barh',y='Area Under Tea In India',x='Year',color='b')"
      ],
      "execution_count": null,
      "outputs": [
        {
          "output_type": "execute_result",
          "data": {
            "text/plain": [
              "<matplotlib.axes._subplots.AxesSubplot at 0x7f117a428690>"
            ]
          },
          "metadata": {},
          "execution_count": 21
        },
        {
          "output_type": "display_data",
          "data": {
            "image/png": "[encoded data removed]",
            "text/plain": [
              "<Figure size 432x288 with 1 Axes>"
            ]
          },
          "metadata": {
            "needs_background": "light"
          }
        }
      ]
    },
    {
      "cell_type": "code",
      "metadata": {
        "id": "28ZXRV5kY3vE"
      },
      "source": [
        "# In 2011 the highes cultivation in India marker"
      ],
      "execution_count": null,
      "outputs": []
    },
    {
      "cell_type": "code",
      "metadata": {
        "colab": {
          "base_uri": "https://localhost:8080/",
          "height": 238
        },
        "id": "Gq4mqS3uqkMI",
        "outputId": "3e4f1565-25ac-4412-a93b-2f420bc383cd"
      },
      "source": [
        "df.head()"
      ],
      "execution_count": null,
      "outputs": [
        {
          "output_type": "execute_result",
          "data": {
            "text/html": [
              "<div>\n",
              "<style scoped>\n",
              "    .dataframe tbody tr th:only-of-type {\n",
              "        vertical-align: middle;\n",
              "    }\n",
              "\n",
              "    .dataframe tbody tr th {\n",
              "        vertical-align: top;\n",
              "    }\n",
              "\n",
              "    .dataframe thead th {\n",
              "        text-align: right;\n",
              "    }\n",
              "</style>\n",
              "<table border=\"1\" class=\"dataframe\">\n",
              "  <thead>\n",
              "    <tr style=\"text-align: right;\">\n",
              "      <th></th>\n",
              "      <th>Year</th>\n",
              "      <th>Area Under Tea In Tamil Nadu</th>\n",
              "      <th>Area Under Tea In Kerala</th>\n",
              "      <th>Area Under Tea In Karnataka</th>\n",
              "      <th>Area Under Tea In South India</th>\n",
              "      <th>Area Under Tea In India</th>\n",
              "    </tr>\n",
              "    <tr>\n",
              "      <th>Year</th>\n",
              "      <th></th>\n",
              "      <th></th>\n",
              "      <th></th>\n",
              "      <th></th>\n",
              "      <th></th>\n",
              "      <th></th>\n",
              "    </tr>\n",
              "  </thead>\n",
              "  <tbody>\n",
              "    <tr>\n",
              "      <th>2001.0</th>\n",
              "      <td>2001.0</td>\n",
              "      <td>75625.0</td>\n",
              "      <td>36940.0</td>\n",
              "      <td>2128.0</td>\n",
              "      <td>114693.0</td>\n",
              "      <td>509806.0</td>\n",
              "    </tr>\n",
              "    <tr>\n",
              "      <th>2002.0</th>\n",
              "      <td>2002.0</td>\n",
              "      <td>75619.0</td>\n",
              "      <td>36967.0</td>\n",
              "      <td>2128.0</td>\n",
              "      <td>114714.0</td>\n",
              "      <td>515832.0</td>\n",
              "    </tr>\n",
              "    <tr>\n",
              "      <th>2003.0</th>\n",
              "      <td>2003.0</td>\n",
              "      <td>75619.0</td>\n",
              "      <td>36967.0</td>\n",
              "      <td>2128.0</td>\n",
              "      <td>114714.0</td>\n",
              "      <td>519598.0</td>\n",
              "    </tr>\n",
              "    <tr>\n",
              "      <th>2004.0</th>\n",
              "      <td>2004.0</td>\n",
              "      <td>75978.0</td>\n",
              "      <td>37107.0</td>\n",
              "      <td>2128.0</td>\n",
              "      <td>115213.0</td>\n",
              "      <td>519598.0</td>\n",
              "    </tr>\n",
              "    <tr>\n",
              "      <th>2005.0</th>\n",
              "      <td>2005.0</td>\n",
              "      <td>80939.0</td>\n",
              "      <td>36772.0</td>\n",
              "      <td>2112.0</td>\n",
              "      <td>119823.0</td>\n",
              "      <td>521403.0</td>\n",
              "    </tr>\n",
              "  </tbody>\n",
              "</table>\n",
              "</div>"
            ],
            "text/plain": [
              "          Year  ...  Area Under Tea In India\n",
              "Year            ...                         \n",
              "2001.0  2001.0  ...                 509806.0\n",
              "2002.0  2002.0  ...                 515832.0\n",
              "2003.0  2003.0  ...                 519598.0\n",
              "2004.0  2004.0  ...                 519598.0\n",
              "2005.0  2005.0  ...                 521403.0\n",
              "\n",
              "[5 rows x 6 columns]"
            ]
          },
          "metadata": {},
          "execution_count": 24
        }
      ]
    },
    {
      "cell_type": "code",
      "metadata": {
        "id": "uUpzo1E0q9qQ"
      },
      "source": [
        "df.drop('Year',axis=1,inplace=True)"
      ],
      "execution_count": null,
      "outputs": []
    },
    {
      "cell_type": "code",
      "metadata": {
        "colab": {
          "base_uri": "https://localhost:8080/",
          "height": 238
        },
        "id": "TtM7j7VCrEap",
        "outputId": "bd8ee6ec-7ac0-432e-a196-9926d1599425"
      },
      "source": [
        "df.head()"
      ],
      "execution_count": null,
      "outputs": [
        {
          "output_type": "execute_result",
          "data": {
            "text/html": [
              "<div>\n",
              "<style scoped>\n",
              "    .dataframe tbody tr th:only-of-type {\n",
              "        vertical-align: middle;\n",
              "    }\n",
              "\n",
              "    .dataframe tbody tr th {\n",
              "        vertical-align: top;\n",
              "    }\n",
              "\n",
              "    .dataframe thead th {\n",
              "        text-align: right;\n",
              "    }\n",
              "</style>\n",
              "<table border=\"1\" class=\"dataframe\">\n",
              "  <thead>\n",
              "    <tr style=\"text-align: right;\">\n",
              "      <th></th>\n",
              "      <th>Area Under Tea In Tamil Nadu</th>\n",
              "      <th>Area Under Tea In Kerala</th>\n",
              "      <th>Area Under Tea In Karnataka</th>\n",
              "      <th>Area Under Tea In South India</th>\n",
              "      <th>Area Under Tea In India</th>\n",
              "    </tr>\n",
              "    <tr>\n",
              "      <th>Year</th>\n",
              "      <th></th>\n",
              "      <th></th>\n",
              "      <th></th>\n",
              "      <th></th>\n",
              "      <th></th>\n",
              "    </tr>\n",
              "  </thead>\n",
              "  <tbody>\n",
              "    <tr>\n",
              "      <th>2001.0</th>\n",
              "      <td>75625.0</td>\n",
              "      <td>36940.0</td>\n",
              "      <td>2128.0</td>\n",
              "      <td>114693.0</td>\n",
              "      <td>509806.0</td>\n",
              "    </tr>\n",
              "    <tr>\n",
              "      <th>2002.0</th>\n",
              "      <td>75619.0</td>\n",
              "      <td>36967.0</td>\n",
              "      <td>2128.0</td>\n",
              "      <td>114714.0</td>\n",
              "      <td>515832.0</td>\n",
              "    </tr>\n",
              "    <tr>\n",
              "      <th>2003.0</th>\n",
              "      <td>75619.0</td>\n",
              "      <td>36967.0</td>\n",
              "      <td>2128.0</td>\n",
              "      <td>114714.0</td>\n",
              "      <td>519598.0</td>\n",
              "    </tr>\n",
              "    <tr>\n",
              "      <th>2004.0</th>\n",
              "      <td>75978.0</td>\n",
              "      <td>37107.0</td>\n",
              "      <td>2128.0</td>\n",
              "      <td>115213.0</td>\n",
              "      <td>519598.0</td>\n",
              "    </tr>\n",
              "    <tr>\n",
              "      <th>2005.0</th>\n",
              "      <td>80939.0</td>\n",
              "      <td>36772.0</td>\n",
              "      <td>2112.0</td>\n",
              "      <td>119823.0</td>\n",
              "      <td>521403.0</td>\n",
              "    </tr>\n",
              "  </tbody>\n",
              "</table>\n",
              "</div>"
            ],
            "text/plain": [
              "        Area Under Tea In Tamil Nadu  ...  Area Under Tea In India\n",
              "Year                                  ...                         \n",
              "2001.0                       75625.0  ...                 509806.0\n",
              "2002.0                       75619.0  ...                 515832.0\n",
              "2003.0                       75619.0  ...                 519598.0\n",
              "2004.0                       75978.0  ...                 519598.0\n",
              "2005.0                       80939.0  ...                 521403.0\n",
              "\n",
              "[5 rows x 5 columns]"
            ]
          },
          "metadata": {},
          "execution_count": 26
        }
      ]
    }
  ]
}